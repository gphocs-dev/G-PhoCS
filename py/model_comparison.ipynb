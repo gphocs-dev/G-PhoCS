{
 "cells": [
  {
   "cell_type": "code",
   "execution_count": 39,
   "metadata": {
    "collapsed": false
   },
   "outputs": [],
   "source": [
    "%matplotlib inline\n",
    "import numpy as np\n",
    "import matplotlib.pyplot as plt\n",
    "import pandas as pd\n",
    "pd.set_option('display.mpl_style', 'default') \n",
    "pd.set_option('display.width', 5000) \n",
    "pd.set_option('display.max_columns', 60)\n"
   ]
  },
  {
   "cell_type": "code",
   "execution_count": 40,
   "metadata": {
    "collapsed": false
   },
   "outputs": [],
   "source": [
    "flat_coalescence_stats = \\\n",
    "    pd.read_csv\\\n",
    "        ('../logs/sample-data.coalStats.tsv',\\\n",
    "         sep='\\t')"
   ]
  },
  {
   "cell_type": "code",
   "execution_count": 41,
   "metadata": {
    "collapsed": false
   },
   "outputs": [
    {
     "data": {
      "text/html": [
       "<div>\n",
       "<table border=\"1\" class=\"dataframe\">\n",
       "  <thead>\n",
       "    <tr style=\"text-align: right;\">\n",
       "      <th></th>\n",
       "      <th>logPrior</th>\n",
       "      <th>time_stats</th>\n",
       "      <th>num_coal</th>\n",
       "      <th>root_ϴ</th>\n",
       "      <th>P_Z_ϴM</th>\n",
       "    </tr>\n",
       "  </thead>\n",
       "  <tbody>\n",
       "    <tr>\n",
       "      <th>0</th>\n",
       "      <td>85.995726</td>\n",
       "      <td>1.490026</td>\n",
       "      <td>7000</td>\n",
       "      <td>0.993342</td>\n",
       "      <td>-62289.508710</td>\n",
       "    </tr>\n",
       "    <tr>\n",
       "      <th>1</th>\n",
       "      <td>85.943253</td>\n",
       "      <td>1.540434</td>\n",
       "      <td>7000</td>\n",
       "      <td>1.025140</td>\n",
       "      <td>-61972.086796</td>\n",
       "    </tr>\n",
       "    <tr>\n",
       "      <th>2</th>\n",
       "      <td>85.801941</td>\n",
       "      <td>1.567853</td>\n",
       "      <td>7000</td>\n",
       "      <td>1.027326</td>\n",
       "      <td>-61752.584457</td>\n",
       "    </tr>\n",
       "    <tr>\n",
       "      <th>3</th>\n",
       "      <td>85.667683</td>\n",
       "      <td>1.585372</td>\n",
       "      <td>7000</td>\n",
       "      <td>1.031189</td>\n",
       "      <td>-61665.005804</td>\n",
       "    </tr>\n",
       "    <tr>\n",
       "      <th>4</th>\n",
       "      <td>85.426318</td>\n",
       "      <td>1.717799</td>\n",
       "      <td>7000</td>\n",
       "      <td>1.068754</td>\n",
       "      <td>-60907.063417</td>\n",
       "    </tr>\n",
       "  </tbody>\n",
       "</table>\n",
       "</div>"
      ],
      "text/plain": [
       "    logPrior  time_stats  num_coal    root_ϴ        P_Z_ϴM\n",
       "0  85.995726    1.490026      7000  0.993342 -62289.508710\n",
       "1  85.943253    1.540434      7000  1.025140 -61972.086796\n",
       "2  85.801941    1.567853      7000  1.027326 -61752.584457\n",
       "3  85.667683    1.585372      7000  1.031189 -61665.005804\n",
       "4  85.426318    1.717799      7000  1.068754 -60907.063417"
      ]
     },
     "execution_count": 41,
     "metadata": {},
     "output_type": "execute_result"
    }
   ],
   "source": [
    "flat_coalescence_stats = flat_coalescence_stats[['logPrior','coalStatFlat', 'numCoalFlat', 'root_theta', 'genealogyLogLikelihood' ]]\n",
    "flat_coalescence_stats.columns = ['logPrior','time_stats', 'num_coal', 'root_ϴ', 'P_Z_ϴM' ]\n",
    "flat_coalescence_stats[:5]"
   ]
  },
  {
   "cell_type": "code",
   "execution_count": 42,
   "metadata": {
    "collapsed": false
   },
   "outputs": [
    {
     "data": {
      "text/plain": [
       "-2407.9120511467941"
      ]
     },
     "execution_count": 42,
     "metadata": {},
     "output_type": "execute_result"
    }
   ],
   "source": [
    "def P_Z_ϴM0(theta, num_coal, time_stats):\n",
    "    result = num_coal*np.log(2.0/theta) -(time_stats/theta)\n",
    "    return result\n",
    "P_Z_ϴM0(2.82063, 7000, 3.442481)"
   ]
  },
  {
   "cell_type": "code",
   "execution_count": 53,
   "metadata": {
    "collapsed": false
   },
   "outputs": [
    {
     "data": {
      "text/html": [
       "<div>\n",
       "<table border=\"1\" class=\"dataframe\">\n",
       "  <thead>\n",
       "    <tr style=\"text-align: right;\">\n",
       "      <th></th>\n",
       "      <th>logPrior</th>\n",
       "      <th>time_stats</th>\n",
       "      <th>num_coal</th>\n",
       "      <th>root_ϴ</th>\n",
       "      <th>P_Z_ϴM</th>\n",
       "      <th>P_Z_ϴM0</th>\n",
       "    </tr>\n",
       "  </thead>\n",
       "  <tbody>\n",
       "    <tr>\n",
       "      <th>49</th>\n",
       "      <td>79.184578</td>\n",
       "      <td>2.854285</td>\n",
       "      <td>7000</td>\n",
       "      <td>2.448765</td>\n",
       "      <td>-56646.839272</td>\n",
       "      <td>-1418.222049</td>\n",
       "    </tr>\n",
       "    <tr>\n",
       "      <th>48</th>\n",
       "      <td>79.182288</td>\n",
       "      <td>2.864873</td>\n",
       "      <td>7000</td>\n",
       "      <td>2.441710</td>\n",
       "      <td>-56605.172974</td>\n",
       "      <td>-1398.033337</td>\n",
       "    </tr>\n",
       "    <tr>\n",
       "      <th>47</th>\n",
       "      <td>79.505185</td>\n",
       "      <td>2.799611</td>\n",
       "      <td>7000</td>\n",
       "      <td>2.367073</td>\n",
       "      <td>-56817.236672</td>\n",
       "      <td>-1180.731663</td>\n",
       "    </tr>\n",
       "    <tr>\n",
       "      <th>46</th>\n",
       "      <td>79.767757</td>\n",
       "      <td>2.769587</td>\n",
       "      <td>7000</td>\n",
       "      <td>2.285968</td>\n",
       "      <td>-56920.367575</td>\n",
       "      <td>-936.708265</td>\n",
       "    </tr>\n",
       "    <tr>\n",
       "      <th>45</th>\n",
       "      <td>79.947232</td>\n",
       "      <td>2.724760</td>\n",
       "      <td>7000</td>\n",
       "      <td>2.285968</td>\n",
       "      <td>-57136.349312</td>\n",
       "      <td>-936.688655</td>\n",
       "    </tr>\n",
       "  </tbody>\n",
       "</table>\n",
       "</div>"
      ],
      "text/plain": [
       "     logPrior  time_stats  num_coal    root_ϴ        P_Z_ϴM      P_Z_ϴM0\n",
       "49  79.184578    2.854285      7000  2.448765 -56646.839272 -1418.222049\n",
       "48  79.182288    2.864873      7000  2.441710 -56605.172974 -1398.033337\n",
       "47  79.505185    2.799611      7000  2.367073 -56817.236672 -1180.731663\n",
       "46  79.767757    2.769587      7000  2.285968 -56920.367575  -936.708265\n",
       "45  79.947232    2.724760      7000  2.285968 -57136.349312  -936.688655"
      ]
     },
     "execution_count": 53,
     "metadata": {},
     "output_type": "execute_result"
    }
   ],
   "source": [
    "root_ϴ = flat_coalescence_stats['root_ϴ']\n",
    "num_coal = flat_coalescence_stats['num_coal'] \n",
    "time_stats = flat_coalescence_stats['time_stats']\n",
    "flat_coalescence_stats['P_Z_ϴM0'] = P_Z_ϴM0(root_ϴ, num_coal, time_stats)\n",
    "\n",
    "flat_coalescence_stats.sort_values(by='P_Z_ϴM0', ascending=True)[:5]"
   ]
  },
  {
   "cell_type": "code",
   "execution_count": null,
   "metadata": {
    "collapsed": true
   },
   "outputs": [],
   "source": []
  }
 ],
 "metadata": {
  "kernelspec": {
   "display_name": "Python 3",
   "language": "python",
   "name": "python3"
  },
  "language_info": {
   "codemirror_mode": {
    "name": "ipython",
    "version": 3
   },
   "file_extension": ".py",
   "mimetype": "text/x-python",
   "name": "python",
   "nbconvert_exporter": "python",
   "pygments_lexer": "ipython3",
   "version": "3.5.0"
  }
 },
 "nbformat": 4,
 "nbformat_minor": 0
}
