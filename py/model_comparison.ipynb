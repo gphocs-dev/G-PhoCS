{
 "cells": [
  {
   "cell_type": "code",
   "execution_count": 7,
   "metadata": {
    "collapsed": false
   },
   "outputs": [],
   "source": [
    "%matplotlib inline\n",
    "import numpy as np\n",
    "import matplotlib.pyplot as plt\n",
    "import pandas as pd\n",
    "pd.set_option('display.mpl_style', 'default') \n",
    "pd.set_option('display.width', 5000) \n",
    "pd.set_option('display.max_columns', 60)\n"
   ]
  },
  {
   "cell_type": "code",
   "execution_count": 10,
   "metadata": {
    "collapsed": false
   },
   "outputs": [],
   "source": [
    "flat_coalescence_stats = \\\n",
    "    pd.read_csv\\\n",
    "        ('../logs/sample-data.coalStats.tsv',\\\n",
    "         sep='\\t')"
   ]
  },
  {
   "cell_type": "code",
   "execution_count": 12,
   "metadata": {
    "collapsed": false
   },
   "outputs": [
    {
     "data": {
      "text/html": [
       "<div>\n",
       "<table border=\"1\" class=\"dataframe\">\n",
       "  <thead>\n",
       "    <tr style=\"text-align: right;\">\n",
       "      <th></th>\n",
       "      <th>iter</th>\n",
       "      <th>coalStatFlat</th>\n",
       "      <th>numCoalFlat</th>\n",
       "      <th>migStatFlat</th>\n",
       "      <th>numMigFlat</th>\n",
       "      <th>logPrior</th>\n",
       "      <th>genLogLikelihood</th>\n",
       "      <th>dataLogLikelihood</th>\n",
       "      <th>P_Z_ϴM</th>\n",
       "    </tr>\n",
       "  </thead>\n",
       "  <tbody>\n",
       "    <tr>\n",
       "      <th>0</th>\n",
       "      <td>0</td>\n",
       "      <td>1.537531</td>\n",
       "      <td>7000</td>\n",
       "      <td>0.425007</td>\n",
       "      <td>0</td>\n",
       "      <td>74.406115</td>\n",
       "      <td>-1345147.508629</td>\n",
       "      <td>-1407191.036509</td>\n",
       "      <td>-62043.527880</td>\n",
       "    </tr>\n",
       "    <tr>\n",
       "      <th>1</th>\n",
       "      <td>1</td>\n",
       "      <td>1.567838</td>\n",
       "      <td>7000</td>\n",
       "      <td>0.434766</td>\n",
       "      <td>1</td>\n",
       "      <td>74.244715</td>\n",
       "      <td>-1343515.398845</td>\n",
       "      <td>-1405370.041241</td>\n",
       "      <td>-61854.642396</td>\n",
       "    </tr>\n",
       "    <tr>\n",
       "      <th>2</th>\n",
       "      <td>2</td>\n",
       "      <td>1.663058</td>\n",
       "      <td>7000</td>\n",
       "      <td>0.471859</td>\n",
       "      <td>0</td>\n",
       "      <td>74.161724</td>\n",
       "      <td>-1343041.895733</td>\n",
       "      <td>-1404301.985444</td>\n",
       "      <td>-61260.089711</td>\n",
       "    </tr>\n",
       "    <tr>\n",
       "      <th>3</th>\n",
       "      <td>3</td>\n",
       "      <td>1.687391</td>\n",
       "      <td>7000</td>\n",
       "      <td>0.483050</td>\n",
       "      <td>2</td>\n",
       "      <td>73.915479</td>\n",
       "      <td>-1342439.933576</td>\n",
       "      <td>-1403587.899880</td>\n",
       "      <td>-61147.966304</td>\n",
       "    </tr>\n",
       "    <tr>\n",
       "      <th>4</th>\n",
       "      <td>4</td>\n",
       "      <td>1.649143</td>\n",
       "      <td>7000</td>\n",
       "      <td>0.481082</td>\n",
       "      <td>0</td>\n",
       "      <td>73.801757</td>\n",
       "      <td>-1341877.148806</td>\n",
       "      <td>-1403305.183686</td>\n",
       "      <td>-61428.034880</td>\n",
       "    </tr>\n",
       "  </tbody>\n",
       "</table>\n",
       "</div>"
      ],
      "text/plain": [
       "   iter  coalStatFlat  numCoalFlat  migStatFlat  numMigFlat   logPrior  genLogLikelihood  dataLogLikelihood        P_Z_ϴM\n",
       "0     0      1.537531         7000     0.425007           0  74.406115   -1345147.508629    -1407191.036509 -62043.527880\n",
       "1     1      1.567838         7000     0.434766           1  74.244715   -1343515.398845    -1405370.041241 -61854.642396\n",
       "2     2      1.663058         7000     0.471859           0  74.161724   -1343041.895733    -1404301.985444 -61260.089711\n",
       "3     3      1.687391         7000     0.483050           2  73.915479   -1342439.933576    -1403587.899880 -61147.966304\n",
       "4     4      1.649143         7000     0.481082           0  73.801757   -1341877.148806    -1403305.183686 -61428.034880"
      ]
     },
     "execution_count": 12,
     "metadata": {},
     "output_type": "execute_result"
    }
   ],
   "source": [
    "flat_coalescence_stats['P_Z_ϴM'] = flat_coalescence_stats['dataLogLikelihood'] - flat_coalescence_stats['genLogLikelihood']\n",
    "flat_coalescence_stats[:5]"
   ]
  },
  {
   "cell_type": "code",
   "execution_count": 160,
   "metadata": {
    "collapsed": false
   },
   "outputs": [
    {
     "data": {
      "text/plain": [
       "0.0"
      ]
     },
     "execution_count": 160,
     "metadata": {},
     "output_type": "execute_result"
    }
   ],
   "source": [
    "flat_coalescence_stats['P_Z_ϴM'] = flat_coalescence_stats['dataLogLikelihood'] - flat_coalescence_stats['genLogLikelihood']\n",
    "flat_coalescence_stats[:5]"
   ]
  },
  {
   "cell_type": "code",
   "execution_count": 22,
   "metadata": {
    "collapsed": false
   },
   "outputs": [
    {
     "data": {
      "text/plain": [
       "-2407.9120511467941"
      ]
     },
     "execution_count": 22,
     "metadata": {},
     "output_type": "execute_result"
    }
   ],
   "source": [
    "def P_Z_ϴM0(theta, num_coal, time_stats):\n",
    "    result = num_coal*np.log(2.0/theta) -(time_stats/theta)\n",
    "    return result\n",
    "P_Z_ϴM0(2.82063, 7000, 3.442481)"
   ]
  }
 ],
 "metadata": {
  "kernelspec": {
   "display_name": "Python 3",
   "language": "python",
   "name": "python3"
  },
  "language_info": {
   "codemirror_mode": {
    "name": "ipython",
    "version": 3
   },
   "file_extension": ".py",
   "mimetype": "text/x-python",
   "name": "python",
   "nbconvert_exporter": "python",
   "pygments_lexer": "ipython3",
   "version": "3.5.0"
  }
 },
 "nbformat": 4,
 "nbformat_minor": 0
}
